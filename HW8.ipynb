{
 "cells": [
  {
   "cell_type": "code",
   "execution_count": 2,
   "id": "98e72eac-0f24-4c0e-89e3-4704e737d0aa",
   "metadata": {},
   "outputs": [],
   "source": [
    "import pandas as pd\n",
    "from sklearn.model_selection import train_test_split\n",
    "from sklearn.preprocessing import StandardScaler\n",
    "\n",
    "# 讀取資料集\n",
    "multi_data = pd.read_csv(\"data.csv\")\n",
    "binary_data = pd.read_csv(\"data_2genre.csv\")\n",
    "\n",
    "# 定義特徵欄位\n",
    "features = [\n",
    "    \"tempo\", \"beats\", \"chroma_stft\", \"rmse\", \"spectral_centroid\", \n",
    "    \"spectral_bandwidth\", \"rolloff\", \"zero_crossing_rate\", \n",
    "    \"mfcc1\", \"mfcc2\", \"mfcc3\", \"mfcc4\", \"mfcc5\", \"mfcc6\", \"mfcc7\",\n",
    "    \"mfcc8\", \"mfcc9\", \"mfcc10\", \"mfcc11\", \"mfcc12\", \"mfcc13\", \n",
    "    \"mfcc14\", \"mfcc15\", \"mfcc16\", \"mfcc17\", \"mfcc18\", \"mfcc19\", \"mfcc20\"\n",
    "]\n",
    "\n",
    "# 分別提取特徵和標籤\n",
    "# 多分類資料集\n",
    "X_multi = multi_data[features]\n",
    "y_multi = multi_data[\"label\"]\n",
    "\n",
    "# 二元分類資料集\n",
    "X_binary = binary_data[features]\n",
    "y_binary = binary_data[\"label\"]\n"
   ]
  },
  {
   "cell_type": "code",
   "execution_count": 5,
   "id": "3f775c02-eaa9-4c53-b6d5-557786cdedce",
   "metadata": {},
   "outputs": [],
   "source": [
    "# 將資料分成訓練集與測試集\n",
    "X_train_multi, X_test_multi, y_train_multi, y_test_multi = train_test_split(\n",
    "    X_multi, y_multi, test_size=0.2, random_state=42)\n",
    "\n",
    "X_train_binary, X_test_binary, y_train_binary, y_test_binary = train_test_split(\n",
    "    X_binary, y_binary, test_size=0.2, random_state=42)\n",
    "# 正規\n",
    "scaler = StandardScaler()\n",
    "X_train_multi = scaler.fit_transform(X_train_multi)\n",
    "X_test_multi = scaler.transform(X_test_multi)\n",
    "\n",
    "X_train_binary = scaler.fit_transform(X_train_binary)\n",
    "X_test_binary = scaler.transform(X_test_binary)"
   ]
  },
  {
   "cell_type": "code",
   "execution_count": 11,
   "id": "f1b30820-0742-4416-a22c-0a3a9819b12b",
   "metadata": {},
   "outputs": [
    {
     "name": "stdout",
     "output_type": "stream",
     "text": [
      "------------------------KMeans----------------------\n",
      "KMeans 分10群結果:\n",
      "Normalized Mutual Info Score: 0.3033\n",
      "Silhouette Score: 0.1112\n",
      "--------------------KMeans--------------------\n"
     ]
    },
    {
     "name": "stderr",
     "output_type": "stream",
     "text": [
      "C:\\Users\\user\\anaconda3\\envs\\aicup\\lib\\site-packages\\sklearn\\cluster\\_kmeans.py:1429: UserWarning: KMeans is known to have a memory leak on Windows with MKL, when there are less chunks than available threads. You can avoid it by setting the environment variable OMP_NUM_THREADS=4.\n",
      "  warnings.warn(\n"
     ]
    }
   ],
   "source": [
    "print(\"------------------------KMeans----------------------\")\n",
    "from sklearn.cluster import KMeans\n",
    "from sklearn.metrics import normalized_mutual_info_score, silhouette_score\n",
    "\n",
    "# 初始化 KMeans\n",
    "kmeans = KMeans(n_clusters=10, random_state=42)\n",
    "kmeans.fit(X_train_multi)\n",
    "\n",
    "# 預測並評估\n",
    "labels = kmeans.labels_\n",
    "nmi_score = normalized_mutual_info_score(y_train_multi, labels)\n",
    "sil_score = silhouette_score(X_train_multi, labels)\n",
    "\n",
    "print(\"KMeans 分10群結果:\")\n",
    "print(f\"Normalized Mutual Info Score: {nmi_score:.4f}\")\n",
    "print(f\"Silhouette Score: {sil_score:.4f}\")\n",
    "print(\"--------------------KMeans--------------------\")\n"
   ]
  },
  {
   "cell_type": "code",
   "execution_count": 36,
   "id": "ca6ec0a0-428e-4b57-ac7d-db68ab370654",
   "metadata": {},
   "outputs": [
    {
     "name": "stdout",
     "output_type": "stream",
     "text": [
      "------------------------AgglomerativeClustering----------------------\n",
      "AgglomerativeClustering 分10群結果:\n",
      "Normalized Mutual Info Score: 0.3107\n",
      "Silhouette Score: 0.1004\n",
      "--------------------AgglomerativeClustering--------------------\n"
     ]
    }
   ],
   "source": [
    "print(\"------------------------AgglomerativeClustering----------------------\")\n",
    "from sklearn.cluster import AgglomerativeClustering\n",
    "\n",
    "# 初始化 AgglomerativeClustering\n",
    "agglo = AgglomerativeClustering(n_clusters=1)\n",
    "agglo.fit(X_train_multi)\n",
    "\n",
    "# 預測並評估\n",
    "labels = agglo.labels_\n",
    "nmi_score = normalized_mutual_info_score(y_train_multi, labels)\n",
    "sil_score = silhouette_score(X_train_multi, labels)\n",
    "\n",
    "print(\"AgglomerativeClustering 分10群結果:\")\n",
    "print(f\"Normalized Mutual Info Score: {nmi_score:.4f}\")\n",
    "print(f\"Silhouette Score: {sil_score:.4f}\")\n",
    "print(\"--------------------AgglomerativeClustering--------------------\")\n"
   ]
  },
  {
   "cell_type": "code",
   "execution_count": 13,
   "id": "f6a9b3ce-a65a-43be-b8e1-ae91548427bb",
   "metadata": {},
   "outputs": [
    {
     "name": "stdout",
     "output_type": "stream",
     "text": [
      "------------------------DBSCAN----------------------\n",
      "DBSCAN 分群結果:\n",
      "Normalized Mutual Info Score: 0.1999\n",
      "Silhouette Score: 0.3639\n",
      "--------------------DBSCAN--------------------\n"
     ]
    }
   ],
   "source": [
    "print(\"------------------------DBSCAN----------------------\")\n",
    "from sklearn.cluster import DBSCAN\n",
    "# 初始化 DBSCAN，調整 eps 和 min_samples 參數\n",
    "dbscan = DBSCAN(eps=2,min_samples=10) #min_samples4以上太大會全被當雜訊2才可或是把eps調高\n",
    "dbscan.fit(X_train_multi)\n",
    "\n",
    "# 預測並評估\n",
    "labels = dbscan.labels_\n",
    "\n",
    "# 排除 -1 的噪音標籤進行評估\n",
    "valid_mask = labels != -1\n",
    "\n",
    "# 檢查是否有有效的樣本\n",
    "if valid_mask.sum() > 0:\n",
    "    nmi_score = normalized_mutual_info_score(y_train_multi[valid_mask], labels[valid_mask])\n",
    "    sil_score = silhouette_score(X_train_multi[valid_mask], labels[valid_mask])\n",
    "\n",
    "    print(\"DBSCAN 分群結果:\")\n",
    "    print(f\"Normalized Mutual Info Score: {nmi_score:.4f}\")\n",
    "    print(f\"Silhouette Score: {sil_score:.4f}\")\n",
    "else:\n",
    "    print(\"所有樣本都被標記為噪音，無法進行有效評估\")\n",
    "    \n",
    "print(\"--------------------DBSCAN--------------------\")\n"
   ]
  },
  {
   "cell_type": "code",
   "execution_count": null,
   "id": "cc55416d-367e-4c67-a0f2-2dcfbc2283a8",
   "metadata": {},
   "outputs": [],
   "source": []
  },
  {
   "cell_type": "code",
   "execution_count": null,
   "id": "81f554b6-1c1d-47e4-aec1-6734cd833997",
   "metadata": {},
   "outputs": [],
   "source": []
  }
 ],
 "metadata": {
  "kernelspec": {
   "display_name": "Python 3 (ipykernel)",
   "language": "python",
   "name": "python3"
  },
  "language_info": {
   "codemirror_mode": {
    "name": "ipython",
    "version": 3
   },
   "file_extension": ".py",
   "mimetype": "text/x-python",
   "name": "python",
   "nbconvert_exporter": "python",
   "pygments_lexer": "ipython3",
   "version": "3.10.13"
  }
 },
 "nbformat": 4,
 "nbformat_minor": 5
}
